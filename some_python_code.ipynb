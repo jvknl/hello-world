{
 "cells": [
  {
   "cell_type": "markdown",
   "metadata": {},
   "source": [
    "#### notebook added"
   ]
  },
  {
   "cell_type": "code",
   "execution_count": 1,
   "metadata": {},
   "outputs": [
    {
     "data": {
      "text/plain": [
       "2"
      ]
     },
     "execution_count": 1,
     "metadata": {},
     "output_type": "execute_result"
    }
   ],
   "source": [
    "%pylab inline"
   ]
  },
  {
   "cell_type": "code",
   "execution_count": null,
   "metadata": {},
   "outputs": [],
   "source": [
    "# sample num_dice random numbers between 1 and 6 and return their sum\n",
    "def roll_dice(num_dice):\n",
    "    return random.randint(1, 7, num_dice).sum()"
   ]
  },
  {
   "cell_type": "code",
   "execution_count": null,
   "metadata": {},
   "outputs": [],
   "source": [
    "# sample distributions of rolling 1..5 dice\n",
    "n = 10000\n",
    "eye_bins = arange(1, 31, 1) # 5*6=30\n",
    "eye_hists = []\n",
    "for num_dice in arange(1, 6):\n",
    "    eyes = [roll_dice(num_dice) for _ in range(n)]\n",
    "    eye_hists.append(histogram(eyes, bins=eye_bins, normed=True)[0])"
   ]
  },
  {
   "cell_type": "code",
   "execution_count": null,
   "metadata": {},
   "outputs": [],
   "source": [
    "# make numpy array, show distribution\n",
    "eye_hists = array(eye_hists)\n",
    "imshow(eye_hists); axis('off');"
   ]
  },
  {
   "cell_type": "code",
   "execution_count": null,
   "metadata": {},
   "outputs": [],
   "source": [
    "# harvest probability mass given the observations\n",
    "dice_dist = zeros(5)\n",
    "for observed_eye in [10, 15, 14, 13, 18, 12]:\n",
    "    dice_dist += eye_hists[:, observed_eye]"
   ]
  },
  {
   "cell_type": "code",
   "execution_count": null,
   "metadata": {},
   "outputs": [],
   "source": [
    "# plot the distribution\n",
    "bar(arange(1, 6), dice_dist/sum(dice_dist));\n",
    "xticks(arange(1, 6)); xlabel('#dice'); ylabel('probability');"
   ]
  }
 ],
 "metadata": {
  "kernelspec": {
   "display_name": "Python 3",
   "language": "python",
   "name": "python3"
  },
  "language_info": {
   "codemirror_mode": {
    "name": "ipython",
    "version": 3
   },
   "file_extension": ".py",
   "mimetype": "text/x-python",
   "name": "python",
   "nbconvert_exporter": "python",
   "pygments_lexer": "ipython3",
   "version": "3.6.4"
  }
 },
 "nbformat": 4,
 "nbformat_minor": 2
}
