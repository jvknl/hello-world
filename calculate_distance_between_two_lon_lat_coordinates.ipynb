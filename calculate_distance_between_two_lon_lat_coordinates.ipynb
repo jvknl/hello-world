{
 "cells": [
  {
   "cell_type": "code",
   "execution_count": 1,
   "metadata": {},
   "outputs": [
    {
     "name": "stdout",
     "output_type": "stream",
     "text": [
      "None\n"
     ]
    }
   ],
   "source": [
    "import os\n",
    "import urllib.parse\n",
    "import  requests\n",
    "import time\n",
    "\n",
    "\n",
    "# by creating an enviroment variable it's possible to store your password only on your computer\n",
    "# start-button >> right click 'computer' icon >> eigenschappen >> geavanceerde systeem instellingen \n",
    "# >> omgevingsvariabelen >> nieuwe systeemvariabele met PWD_NETWORK als key\n",
    "\n",
    "# test with:\n",
    "print(os.environ.get(\"PWD_NETWORK\"))"
   ]
  },
  {
   "cell_type": "code",
   "execution_count": null,
   "metadata": {},
   "outputs": [],
   "source": []
  },
  {
   "cell_type": "code",
   "execution_count": 2,
   "metadata": {},
   "outputs": [],
   "source": [
    "def get_lon_lat_from_address(address):\n",
    "    \"\"\"\n",
    "    returns dictionary with the lon-lat location of an address based on google map api\n",
    "      \n",
    "    input: string with an address or postal code\n",
    "    \n",
    "    output: dictionary with lon-lat location\n",
    "    \n",
    "    \"\"\"\n",
    "    try:\n",
    "        for i in range(10):\n",
    "            main_api = 'http://maps.googleapis.com/maps/api/geocode/json?'\n",
    "            url = main_api + urllib.parse.urlencode({\"address\": address})\n",
    "            json_data = requests.get(url).json()\n",
    "            location = json_data[\"results\"][0]['geometry']['location']\n",
    "            if len(location) == 2:\n",
    "                return(location)\n",
    "                print(i)\n",
    "                break\n",
    "    except:\n",
    "        return(\"getting the lon-lat coordinates from google api did not work\")\n",
    "    \n",
    "    "
   ]
  },
  {
   "cell_type": "code",
   "execution_count": 3,
   "metadata": {},
   "outputs": [],
   "source": [
    "x = get_lon_lat_from_address('1051KG')"
   ]
  },
  {
   "cell_type": "code",
   "execution_count": 9,
   "metadata": {},
   "outputs": [],
   "source": [
    "y = get_lon_lat_from_address('5011VL')"
   ]
  },
  {
   "cell_type": "code",
   "execution_count": 10,
   "metadata": {},
   "outputs": [
    {
     "name": "stdout",
     "output_type": "stream",
     "text": [
      "{'lat': 52.3778005, 'lng': 4.8696408} {'lat': 51.5792585, 'lng': 5.0769097}\n"
     ]
    }
   ],
   "source": [
    "print(x,y)"
   ]
  },
  {
   "cell_type": "code",
   "execution_count": 11,
   "metadata": {},
   "outputs": [],
   "source": [
    "# approximate radius of earth in km\n",
    "# https://www.distancefromto.net/ to check if calculation is correct\n",
    "\n",
    "from math import radians, sin, cos, atan2, sqrt\n",
    "\n",
    "def distance(loc1, loc2):\n",
    "    \"\"\"\n",
    "    calculates the shortest distance between two longitude-latitude locations\n",
    "    \n",
    "    input: two dictionaries containing a lat en lng\n",
    "    \n",
    "    output: the distance between the two locations as an int\n",
    "    \"\"\"\n",
    "    R = 6373.0\n",
    "\n",
    "    lat1 = radians(loc1['lat'])\n",
    "    lng1 = radians(loc1['lng'])\n",
    "    lat2 = radians(loc2['lat'])\n",
    "    lng2 = radians(loc2['lng'])\n",
    "\n",
    "    dlon = lng2 - lng1\n",
    "    dlat = lat2 - lat1\n",
    "\n",
    "    a = sin(dlat / 2)**2 + cos(lat1) * cos(lat2) * sin(dlon / 2)**2\n",
    "    c = 2 * atan2(sqrt(a), sqrt(1 - a))\n",
    "\n",
    "    return (R * c)\n"
   ]
  },
  {
   "cell_type": "code",
   "execution_count": 12,
   "metadata": {},
   "outputs": [
    {
     "data": {
      "text/plain": [
       "89.94959625185342"
      ]
     },
     "execution_count": 12,
     "metadata": {},
     "output_type": "execute_result"
    }
   ],
   "source": [
    "distance(x,y)"
   ]
  },
  {
   "cell_type": "code",
   "execution_count": 13,
   "metadata": {},
   "outputs": [],
   "source": [
    "pc_location = {}"
   ]
  },
  {
   "cell_type": "code",
   "execution_count": 14,
   "metadata": {},
   "outputs": [
    {
     "data": {
      "text/plain": [
       "{'1051KG': {'lat': 52.3778005, 'lng': 4.8696408},\n",
       " '5011VL': {'lat': 51.5792585, 'lng': 5.0769097}}"
      ]
     },
     "execution_count": 14,
     "metadata": {},
     "output_type": "execute_result"
    }
   ],
   "source": [
    "pc_location[\"1051KG\"] = {'lat': 52.3778005, 'lng': 4.8696408} # get_lon_lat_from_address(\"1051KG\")\n",
    "pc_location[\"5011VL\"] = {'lat': 51.5792585, 'lng': 5.0769097} # get_lon_lat_from_address(\"1051KG\")\n",
    "pc_location"
   ]
  },
  {
   "cell_type": "code",
   "execution_count": 15,
   "metadata": {},
   "outputs": [],
   "source": [
    "def calc_closest_station(pc_location, station_location):\n",
    "    \"\"\"\n",
    "    determines which weather station is closest based on lon,lat coordinates of each pc_location in dictionary\n",
    "    \n",
    "    input: \n",
    "        pc_location: dictionary with locations, each location has dictionary with lat,lon value\n",
    "        station_location: dictionary with weather station, each station has dictionary with lat,lon value\n",
    "        \n",
    "    output:\n",
    "        dictionary with location as key, closest weather station as value\n",
    "    \"\"\"\n",
    "    closest_station = {}\n",
    "    for pc in pc_location:\n",
    "        dist_station = {}\n",
    "        for station in station_location:\n",
    "            dist_station[station] = distance(pc_location[pc], station_location[station])\n",
    "        min_dist = min(dist_station.values())\n",
    "        for station in dist_station:\n",
    "            if dist_station[station] == min_dist:\n",
    "                closest_station[pc] = station\n",
    "    return closest_station\n",
    "    "
   ]
  },
  {
   "cell_type": "code",
   "execution_count": null,
   "metadata": {},
   "outputs": [],
   "source": [
    "closest_station = calc_closest_station(pc_location, station_location)"
   ]
  },
  {
   "cell_type": "code",
   "execution_count": null,
   "metadata": {},
   "outputs": [],
   "source": [
    "closest_station"
   ]
  },
  {
   "cell_type": "code",
   "execution_count": null,
   "metadata": {},
   "outputs": [],
   "source": [
    "import csv\n",
    "with open('C:\\\\tmp\\\\lon_lat_pc6.csv', 'r', encoding = 'utf8') as f:\n",
    "    reader = csv.reader(f, delimiter = \";\")\n",
    "    for row in reader:\n",
    "        print(row)"
   ]
  },
  {
   "cell_type": "code",
   "execution_count": null,
   "metadata": {},
   "outputs": [],
   "source": []
  },
  {
   "cell_type": "markdown",
   "metadata": {
    "collapsed": true
   },
   "source": [
    "\n",
    "https://maps.googleapis.com/maps/api/directions/json?origin=1051KG&destination=5011VL&mode=car"
   ]
  },
  {
   "cell_type": "code",
   "execution_count": null,
   "metadata": {},
   "outputs": [],
   "source": [
    "https://maps.googleapis.com/maps/api/directions/json?origin=1051KG&destination=5011VL&mode=car"
   ]
  },
  {
   "cell_type": "code",
   "execution_count": 16,
   "metadata": {},
   "outputs": [],
   "source": [
    "\n",
    "\n",
    "def get_directions_from_address(address):\n",
    "    try:\n",
    "        for i in range(10):\n",
    "            main_api = 'http://maps.googleapis.com/maps/api/geocode/json?'\n",
    "            url = main_api + urllib.parse.urlencode({\"address\": address})\n",
    "            json_data = requests.get(url).json()\n",
    "            location = json_data[\"results\"][0]['geometry']['location']\n",
    "            if len(location) == 2:\n",
    "                return(location)\n",
    "                print(i)\n",
    "                break\n",
    "    except:\n",
    "        return(\"getting the lon-lat coordinates from google api did not work\")"
   ]
  },
  {
   "cell_type": "code",
   "execution_count": 17,
   "metadata": {},
   "outputs": [],
   "source": [
    "\n",
    "def get_directions_from_address(origin, destination):\n",
    "    try:\n",
    "        main_api = 'http://maps.googleapis.com/maps/api/directions/json?'\n",
    "        url = main_api + urllib.parse.urlencode({\"origin\": origin})+ \"&\" + \\\n",
    "            urllib.parse.urlencode({\"destination\": destination}) + \"&mode=car\"\n",
    "        json_data = requests.get(url).json()\n",
    "        duration = json_data['routes'][0]['legs'][0]['duration']\n",
    "        return(duration, json_data)\n",
    "#         location = json_data[\"results\"][0]['geometry']['location']\n",
    "#         if len(location) == 2:\n",
    "#             return(location)\n",
    "#             print(i)\n",
    "#             break\n",
    "    except:\n",
    "        return(\"getting the lon-lat coordinates from google api did not work\")"
   ]
  },
  {
   "cell_type": "code",
   "execution_count": 18,
   "metadata": {},
   "outputs": [],
   "source": [
    "duration, json_data = get_directions_from_address(\"3512VK\", \"5011VL\")"
   ]
  },
  {
   "cell_type": "code",
   "execution_count": 19,
   "metadata": {},
   "outputs": [
    {
     "data": {
      "text/plain": [
       "{'text': '1 hour 0 mins', 'value': 3594}"
      ]
     },
     "execution_count": 19,
     "metadata": {},
     "output_type": "execute_result"
    }
   ],
   "source": [
    "duration"
   ]
  },
  {
   "cell_type": "code",
   "execution_count": 20,
   "metadata": {
    "collapsed": true
   },
   "outputs": [
    {
     "data": {
      "text/plain": [
       "{'distance': {'text': '81.7 km', 'value': 81737},\n",
       " 'duration': {'text': '1 hour 0 mins', 'value': 3594},\n",
       " 'end_address': '5011 VL Tilburg, Netherlands',\n",
       " 'end_location': {'lat': 51.5792567, 'lng': 5.0768955},\n",
       " 'start_address': '3512 VK Utrecht, Netherlands',\n",
       " 'start_location': {'lat': 52.09587200000001, 'lng': 5.119043},\n",
       " 'steps': [{'distance': {'text': '0.1 km', 'value': 123},\n",
       "   'duration': {'text': '1 min', 'value': 32},\n",
       "   'end_location': {'lat': 52.0960681, 'lng': 5.1204614},\n",
       "   'html_instructions': 'Head <b>east</b> on <b>Lange Lauwerstraat</b> toward <b>Korte Lauwerstraat</b>',\n",
       "   'polyline': {'points': 'e~}|H_yf^?M@sAC}AAw@Aw@OHQH'},\n",
       "   'start_location': {'lat': 52.09587200000001, 'lng': 5.119043},\n",
       "   'travel_mode': 'DRIVING'},\n",
       "  {'distance': {'text': '77 m', 'value': 77},\n",
       "   'duration': {'text': '1 min', 'value': 20},\n",
       "   'end_location': {'lat': 52.0963214, 'lng': 5.1215156},\n",
       "   'html_instructions': 'Turn <b>right</b> onto <b>Van Asch van Wijckskade</b>',\n",
       "   'maneuver': 'turn-right',\n",
       "   'polyline': {'points': 'm_~|H{ag^WiBYiB'},\n",
       "   'start_location': {'lat': 52.0960681, 'lng': 5.1204614},\n",
       "   'travel_mode': 'DRIVING'},\n",
       "  {'distance': {'text': '0.2 km', 'value': 177},\n",
       "   'duration': {'text': '1 min', 'value': 64},\n",
       "   'end_location': {'lat': 52.0977512, 'lng': 5.1206719},\n",
       "   'html_instructions': 'Turn <b>left</b> onto <b>Noorderstraat</b><div style=\"font-size:0.9em\">Go through 1 roundabout</div>',\n",
       "   'maneuver': 'turn-left',\n",
       "   'polyline': {'points': '_a~|Hohg^oAt@oAt@KHMFQLQLCGACAAA?CAA?A?E?EFAB?BAH]D'},\n",
       "   'start_location': {'lat': 52.0963214, 'lng': 5.1215156},\n",
       "   'travel_mode': 'DRIVING'},\n",
       "  {'distance': {'text': '0.3 km', 'value': 260},\n",
       "   'duration': {'text': '1 min', 'value': 48},\n",
       "   'end_location': {'lat': 52.0996155, 'lng': 5.118374699999999},\n",
       "   'html_instructions': '<b>Noorderstraat</b> turns slightly <b>left</b> and becomes <b>Koekoekstraat</b>',\n",
       "   'polyline': {'points': '}i~|Hecg^aAnAaAnAaApA_ApAsAlBMNMH'},\n",
       "   'start_location': {'lat': 52.0977512, 'lng': 5.1206719},\n",
       "   'travel_mode': 'DRIVING'},\n",
       "  {'distance': {'text': '0.1 km', 'value': 110},\n",
       "   'duration': {'text': '1 min', 'value': 18},\n",
       "   'end_location': {'lat': 52.10035910000001, 'lng': 5.119408400000001},\n",
       "   'html_instructions': 'Turn <b>right</b> onto <b>Adelaarsbrug</b>/<b>Adelaarstraat</b>',\n",
       "   'maneuver': 'turn-right',\n",
       "   'polyline': {'points': 'su~|Hytf^ESIUKSGMGIm@y@EE]c@UU'},\n",
       "   'start_location': {'lat': 52.0996155, 'lng': 5.118374699999999},\n",
       "   'travel_mode': 'DRIVING'},\n",
       "  {'distance': {'text': '0.4 km', 'value': 354},\n",
       "   'duration': {'text': '1 min', 'value': 45},\n",
       "   'end_location': {'lat': 52.10249959999999, 'lng': 5.1232117},\n",
       "   'html_instructions': 'Continue onto <b>Willem van Noortstraat</b>',\n",
       "   'polyline': {'points': 'gz~|Hi{f^sAwCsAwCkAeCkAeC?MYs@aAkBEGECCA'},\n",
       "   'start_location': {'lat': 52.10035910000001, 'lng': 5.119408400000001},\n",
       "   'travel_mode': 'DRIVING'},\n",
       "  {'distance': {'text': '0.4 km', 'value': 431},\n",
       "   'duration': {'text': '1 min', 'value': 78},\n",
       "   'end_location': {'lat': 52.1037931, 'lng': 5.1288222},\n",
       "   'html_instructions': 'Turn <b>right</b> onto <b>Pieter Nieuwlandstraat</b>',\n",
       "   'maneuver': 'turn-right',\n",
       "   'polyline': {'points': 'sg_}Hasg^GkCKqAKqAMqAMqAWgCUgCKcAIcA[gDIM[S]SMGSO'},\n",
       "   'start_location': {'lat': 52.10249959999999, 'lng': 5.1232117},\n",
       "   'travel_mode': 'DRIVING'},\n",
       "  {'distance': {'text': '90 m', 'value': 90},\n",
       "   'duration': {'text': '1 min', 'value': 21},\n",
       "   'end_location': {'lat': 52.1035043, 'lng': 5.130042599999999},\n",
       "   'html_instructions': 'Turn <b>right</b> onto <b>Kardinaal de Jongweg</b>',\n",
       "   'maneuver': 'turn-right',\n",
       "   'polyline': {'points': 'uo_}Hcvh^Ba@Fe@`@kCBM@GDI'},\n",
       "   'start_location': {'lat': 52.1037931, 'lng': 5.1288222},\n",
       "   'travel_mode': 'DRIVING'},\n",
       "  {'distance': {'text': '0.9 km', 'value': 888},\n",
       "   'duration': {'text': '2 mins', 'value': 112},\n",
       "   'end_location': {'lat': 52.1021914, 'lng': 5.142731599999999},\n",
       "   'html_instructions': 'At <b>Eykmanplein</b>, take the <b>2nd</b> exit and stay on <b>Kardinaal de Jongweg</b>',\n",
       "   'maneuver': 'roundabout-right',\n",
       "   'polyline': {'points': '{m_}Hw}h^BG@IBGBI@IBGBS@Y?O?OAK?CAICM@KBMr@_F^gDHcADi@H{ALsBFyA@Y@g@FcCRsI@eBJmDHgEBu@?E?ADyBFqBBqBH}@FYHY'},\n",
       "   'start_location': {'lat': 52.1035043, 'lng': 5.130042599999999},\n",
       "   'travel_mode': 'DRIVING'},\n",
       "  {'distance': {'text': '0.7 km', 'value': 689},\n",
       "   'duration': {'text': '1 min', 'value': 71},\n",
       "   'end_location': {'lat': 52.1033195, 'lng': 5.152245499999999},\n",
       "   'html_instructions': 'At the roundabout, take the <b>2nd</b> exit onto <b>Biltse Rading</b>',\n",
       "   'maneuver': 'roundabout-right',\n",
       "   'polyline': {'points': 'ue_}Hamk^JIFIHKBMFe@BY?[CSEWACEMIOO{@E[C[?YHmDBmB?IAeBCu@C]C[WqCOqAOgA{@qGEYAGGc@c@_DEYk@oE'},\n",
       "   'start_location': {'lat': 52.1021914, 'lng': 5.142731599999999},\n",
       "   'travel_mode': 'DRIVING'},\n",
       "  {'distance': {'text': '53.0 km', 'value': 52972},\n",
       "   'duration': {'text': '32 mins', 'value': 1898},\n",
       "   'end_location': {'lat': 51.6912384, 'lng': 4.8849844},\n",
       "   'html_instructions': 'Turn <b>right</b> to merge onto <b>Ring Utrecht</b>/<b>A27</b> toward <b>Breda</b><div style=\"font-size:0.9em\">Continue to follow A27</div>',\n",
       "   'polyline': {'points': 'wl_}Hqhm^B[?I?IBK@G?G^UXOpBoArBsAfBgAr@e@NKr@c@r@a@dBeAf@[ZSHGDCBEHKr@]TKj@W^S\\\\Sh@Wh@Y~@i@z@g@^Uf@[j@a@f@[dAu@f@_@x@m@VUdAy@pAgArAcAvAkAr@i@JILGh@_@`@Wz@g@d@WLId@STMx@_@TIHEb@QZOB?b@Qh@URI\\\\OfA_@p@UhBm@|@Wl@QHEDEDEDG~AUrAOtAKh@E`CKh@AnA?h@?f@?lBDvAH`AHl@F\\\\DNBD?@?HBXBVD`@FbAR`B\\\\~@V|@Xj@PpDpAlBfA`@P`@RTLJFJFTJZRJF^RZRf@Zh@^`@Xd@ZZVTNzAnAdC|B^^Z\\\\dAhAdBrBbAnAr@~@|AzBtAtBrAvB~AdC|A~BdB~B|@lA|@hAx@dA~@dA~@bAdAfAVV\\\\XLNLL~FfF`E|C^\\\\LHr@`@HDd@TzA~@zAz@lAl@x@`@l@XlCjA~An@|Af@r@Rn@PnAX^Jt@L~@PrAPh@Fh@Fj@FbAFl@Dx@D~@B`A@|@?~BEbCGbEM|DCd@@r@@~CJpDXtANpAPr@JXDZD^H`@H|AZnAZdBf@vCz@vBp@nBl@|@V~Bp@fD~@bCl@`FjAjH~APDl@LRDbOtCfBZVHhCl@PDxBh@|DdAfFbBrAb@pAd@t@X\\\\NdC`AfBx@pAj@bChAhJdFtDxBrJrGl@d@b@\\\\NJb@\\\\pAdAvAlAb@\\\\tBfBhAbAd@`@f@`@l@h@vAjAbA~@PNPPp@l@bA|@xAnAv@r@jDzCzAtAz@v@v@n@`A|@~@x@f@b@f@`@dJbItJnIlAbAf@`@`DdChCjBXTpA|@bBfApBpAVPDBNHhCzAlAr@xBjAhFfCpEpBx@VXLVJxBx@vBv@t@T~Bt@tErAjCt@jCr@RFPDlDbAtA^jCr@|Bn@xBj@hBf@pBh@fBd@bBd@xA^l@RRFTFlCn@^JfDv@pAXpE|@lTzD|Dt@d@Jb@Hh@LjARf@HbDt@~Cx@~Ab@t@Rx@XjAb@vCbARHPHzCpAfAf@|@`@|@b@pDlB|D~BrBpAvBxAvCvBp@f@t@j@n@f@vEdERPRPv@t@v@r@^^`@^bB`BTT@@PPpDtD`CbCjBpBzDlEdBlBhEbFnBfCbCvC\\\\d@\\\\b@NPLPlBdCvAnBXb@^h@dDrEbDtEtArBbA|Ar@fAJPLPfDlFpHdM~C`G`CzEnBdE~BnFjCfHlApDlAzDFRFRn@bCx@bDb@lBh@|BVrA\\\\`Bn@xDp@lE^jCXbCZxC^~DT|CRzCPvCH|BHtBF|AD`BBhBB`BB`CB~D?pGCzBAxZ?d@?ZA`A?|@?P?r@?rD?pDEnf@A|QA|IAtF@zG?pB@r@?t@@zC@zBBxBLxILxGJpDFdBHfBNnD@\\\\BZ?FFx@B`@RfDL~ANnBXrCT~BXzBXxBR|AJl@N`AThAXxA\\\\`B|@|Dd@pBl@tBl@tBt@|B`@hAb@hAXr@\\\\x@d@dAP`@x@dB\\\\p@lAzBrBbDr@`A^h@r@|@b@h@d@h@~B`CtCvCbFbFfChClBlBnBnBnNpNt@v@j@h@n@p@dDdD|B|B`EbEnClCJJzJzJr@t@t@t@p@p@hAhAxAzAhAhAx@v@t@v@xAxAf@d@b@b@x@v@x@r@lAbAx@l@z@n@rBtAtBrAz@f@pAp@vBhAdB|@~EdC~JbFzBhA~@b@lCvApCrAfCnAnAn@~EdCbI|Drg@dW`EjB|CnA`MzDph@lOdHrB|Ab@|Bp@vEvA|Ab@|Ab@lEpAdFzA`GdBvGnBbCp@pDnAj@TpAf@j@VjBz@fCrAdB`A~h@bY`]tQdAh@rBhArAr@BBdB|@tC|Ab@R|F~Cx_@fRh@V~DnBrIfE~GfDj@XrJzErJzEpGlC|FzBhFjBdGvBp@X`A\\\\pBr@nKvDbJbDTH@@\\\\LvCdAbBj@nC~@rCdAhBp@hBp@nFjBlFnBh@Rf@P~EdBpBt@lFjBbBj@d@NRHRFnCdAdA^jAb@p@Vn@TvG~Br@VrAd@p@X^LpC`AhCx@j@P~EpAVFlAZ\\\\HVF@@PDnEhAfBf@pD~@|EnA|HpBlEfAzBl@zBj@zBl@h@Nh@LpBj@rBh@x@Rx@RbEjA|Bp@pCz@xFfBxDpAhKtDnC`AjE|AnE~AjIvC`WbJbCz@`KrDtAd@jA\\\\t@TbB^xAZb@Hv@LLBb@DzBXdEb@VBlCZtEf@vAPtCZ~Dd@bO`B|Dd@hVlChh@~FbALfAHb@Dd@BfAFx@D\\\\@z@?|C?f@Cx@ClAC~AErAE`AChEMdDK|IWR?RAVA@?LAL?z@C\\\\A`GQrGOhACv@A`A?`A?`BDrAFv@Fd@BvANh]fDr@HbALtARtAVtAVhBd@h@Nj@Ph@Ph@Rh@RnAd@z@\\\\`C|@`C~@PFPHnAd@lCdAtAf@tChArAf@pAf@fA`@~Al@pAh@nCdA`Bn@tAd@`CbAhAj@nAl@~@h@jAp@n@b@NJ\\\\T`@ZDDDBFDXTl@d@j@d@TRz@r@`@\\\\LHHFz@v@bBzAlAfA~AzAXVLNLJ~DzD~A~AbAdA`BdBjEvEzA`BfArAt@|@t@|@rBvCv@fA^j@x@pAXd@~ApCnA~BdAvBXj@Xj@rBnE|B`FhAdCvDfIzB|EzB~EvAzCf@bAr@tA`BxCbBrCf@t@z@pA^j@`@h@h@r@r@|@^b@\\\\b@n@r@t@x@v@v@j@j@n@j@hAbAd@`@nAbA^Xf@^`@V`@X`DpBpAr@rAp@`@Th@Vd@Rr@Zx@\\\\hBp@v@Vt@TdCp@tBp@rBp@`FnA`AZlAXp@Pf@H\\\\H`@FpAXjAR~C^XB@?VBd@Bd@DbDL`DLnELlEJnLXjABxJVdGNhDJ~BFrCJxAH|@FfAHrANb@Fz@J~B\\\\|@NtAXnCj@tE`AzEbAdIdBbKvBvE`AXF@?VFbCh@'},\n",
       "   'start_location': {'lat': 52.1033195, 'lng': 5.152245499999999},\n",
       "   'travel_mode': 'DRIVING'},\n",
       "  {'distance': {'text': '0.5 km', 'value': 461},\n",
       "   'duration': {'text': '1 min', 'value': 31},\n",
       "   'end_location': {'lat': 51.6874226, 'lng': 4.8824529},\n",
       "   'html_instructions': 'At the interchange <b>knooppunt Hooipolder</b>, keep <b>right</b> and follow signs for <b>A59</b> toward <b>Waalwijk</b>/<b>Made</b>/<b>Oosterhout-West</b>/<b>Roosendaal</b>/<b>Efteling</b>',\n",
       "   'maneuver': 'ramp-right',\n",
       "   'polyline': {'points': 'g}nzHcby\\\\PNFB|Aj@fAb@`@RZNj@\\\\XP^Vp@d@d@`@LH~@v@ZTfA~@`@ZTLPJJDLDH@H@TB'},\n",
       "   'start_location': {'lat': 51.6912384, 'lng': 4.8849844},\n",
       "   'travel_mode': 'DRIVING'},\n",
       "  {'distance': {'text': '10.4 km', 'value': 10438},\n",
       "   'duration': {'text': '7 mins', 'value': 395},\n",
       "   'end_location': {'lat': 51.6923883, 'lng': 5.0302845},\n",
       "   'html_instructions': \"Turn <b>left</b> onto <b>A59</b> (signs for <b>Waalwijk</b>/<b>'s-Hertogenbosch</b>/<b>Efteling</b>)\",\n",
       "   'maneuver': 'turn-left',\n",
       "   'polyline': {'points': 'kenzHirx\\\\f@Qd@S?AJELEGo@KiAMoAEc@OwA]}CMcAMaB[aCWgB[}BO}@SeAQy@SaAQy@k@}B]uAYsAKi@e@{Bw@aEkLcm@eAuFQ}@Kk@I_@k@aDUsAYmBg@sD]mCEa@AEC]Iu@Iu@U_CEe@Ek@Ei@Ek@Ek@Ei@Ck@Ek@Ci@Eq@Eo@Co@Cq@Eo@Cq@Co@Cq@SaGMeDKcDi@mR]mMAq@Aq@Cs@Aq@As@Aq@Aq@?s@Aw@?w@Aw@?w@?w@?w@?w@@w@?g@?g@@g@?g@@i@@g@?g@@g@@c@@g@HeDFeDxA{j@v@}YBu@Bw@PwGPwGFcCFaCBw@BgA@c@@a@Bc@@c@@c@@c@@a@@c@@_@@]?]@]@_@@]?]@]?]@[?[@[?]@[?[?[@S?Q?S?S?Q?S?S?Q?k@?_@CkF?g@Ae@Ag@?e@Ag@Ae@Ag@Ae@Ai@Cg@Ai@Ag@Ci@Ai@Cg@Ci@]mJIyBKyBm@uPCq@GgBa@_KWmHQqEa@eLiCyr@OmEK{CIsBG}BGoCC_ACc@CaBEgBCkBEeDIeICuBA_AEwDAyACoBEgEK}JK}JKsICwCAi@?}F?cDBgCD_EF{CDkCJeDb@}LLeDB}@JkCNeELqDFsAD}@t@}Sv@aTB}@D{@b@cLBg@HaBLgCRqEPoDhAiSlAmSj@wJd@oHVaEFmADq@Dq@'},\n",
       "   'start_location': {'lat': 51.6874226, 'lng': 4.8824529},\n",
       "   'travel_mode': 'DRIVING'},\n",
       "  {'distance': {'text': '0.5 km', 'value': 493},\n",
       "   'duration': {'text': '1 min', 'value': 21},\n",
       "   'end_location': {'lat': 51.6910886, 'lng': 5.0370675},\n",
       "   'html_instructions': 'Take exit <b>37</b> for <b>N261</b> toward <b>Waalwijk</b>/<b>Sprang-Capelle</b>/<b>Tilburg</b>',\n",
       "   'maneuver': 'ramp-right',\n",
       "   'polyline': {'points': 'mdozHgnu]R{@l@yIv@wML_APkAhBsI'},\n",
       "   'start_location': {'lat': 51.6923883, 'lng': 5.0302845},\n",
       "   'travel_mode': 'DRIVING'},\n",
       "  {'distance': {'text': '0.4 km', 'value': 352},\n",
       "   'duration': {'text': '1 min', 'value': 16},\n",
       "   'end_location': {'lat': 51.688962, 'lng': 5.0407509},\n",
       "   'html_instructions': 'Keep <b>right</b>, follow signs for <b>N261</b>',\n",
       "   'maneuver': 'keep-right',\n",
       "   'polyline': {'points': 'i|nzHuxv]xFwORg@T_@NS`@c@j@g@f@_@'},\n",
       "   'start_location': {'lat': 51.6910886, 'lng': 5.0370675},\n",
       "   'travel_mode': 'DRIVING'},\n",
       "  {'distance': {'text': '10.2 km', 'value': 10207},\n",
       "   'duration': {'text': '6 mins', 'value': 378},\n",
       "   'end_location': {'lat': 51.6014674, 'lng': 5.0716689},\n",
       "   'html_instructions': 'Continue onto <b>N261</b>',\n",
       "   'polyline': {'points': '_onzHuow]p@Md@If@Ih@KnAYf@MdBe@rDmArB{@TKRIhAk@lAo@hAm@f@YvCkBh@_@^Yb@[hCsBb@c@f@c@rAmAjCcChCoCzBsCdByBpCqDnAaBhHcJhCgDrCeD~BiCz@eAnC{C`CeB|@k@|@i@VOTMbB_Av@_@z@a@dAc@v@[pAg@|Ai@bA[xA_@rA[jAWjAUfC_@~@Mt@G`BIVALAn@Ax@?J?^@rAFdBPnAPnAV@@`ATbBh@f@Rh@RhD~AvBdAxDdBvAb@lBd@nBXdCZZ@h@Bt@@|@@r@A~@ChAIp@Gt@IREXGZEj@KbBa@nDeA^KtBs@fBk@hCs@xA_@xA_@`B_@hBa@rAYdB[vCe@hEm@^EbCe@zDu@BAnBc@vBk@NCtDgATGjGmBtBs@PGLG`Cm@pBe@xBa@hBYlC]xBStBOtF[nESR?NAbCKdCKX?xDStCSrCYpCc@xB]zBc@jAYdD}@~@Y~@YfA]dA_@\\\\OjB{@`GwCnF{Ch@]h@S@?VQVQLGfDyB|AiALG|BwAzD}BdDiB|@a@`DsAnAg@zCcAfBi@~DeAzBg@`ASrB[vB[dBQzCWxDYlCQn@ExESfCGtEG|HIN?vD?pCB'},\n",
       "   'start_location': {'lat': 51.688962, 'lng': 5.0407509},\n",
       "   'travel_mode': 'DRIVING'},\n",
       "  {'distance': {'text': '2.0 km', 'value': 1975},\n",
       "   'duration': {'text': '2 mins', 'value': 101},\n",
       "   'end_location': {'lat': 51.5839292, 'lng': 5.0675913},\n",
       "   'html_instructions': 'Continue onto <b>Midden-Brabantweg</b>',\n",
       "   'polyline': {'points': 'el}yH}p}]xEHlBDtHZdCL`@BpBLhAJdAHbDX~BX`CT`@D`@FvATxARdDd@`@JjGhAbCf@|@RjE`ArFvAlBh@nEnAzI~B'},\n",
       "   'start_location': {'lat': 51.6014674, 'lng': 5.0716689},\n",
       "   'travel_mode': 'DRIVING'},\n",
       "  {'distance': {'text': '1.1 km', 'value': 1071},\n",
       "   'duration': {'text': '2 mins', 'value': 124},\n",
       "   'end_location': {'lat': 51.5813989, 'lng': 5.0821333},\n",
       "   'html_instructions': 'Turn <b>left</b> onto <b>Heikantlaan</b> (signs for <b>Centrum</b>)',\n",
       "   'maneuver': 'turn-left',\n",
       "   'polyline': {'points': 'q~yyHmw|]d@VLmAh@wK?GRkE^wG^uGh@kFj@iFBOBOD_@D]@I@KlB_PjBaP'},\n",
       "   'start_location': {'lat': 51.5839292, 'lng': 5.0675913},\n",
       "   'travel_mode': 'DRIVING'},\n",
       "  {'distance': {'text': '0.1 km', 'value': 120},\n",
       "   'duration': {'text': '1 min', 'value': 22},\n",
       "   'end_location': {'lat': 51.5803646, 'lng': 5.0816563},\n",
       "   'html_instructions': 'Turn <b>right</b> onto <b>Mozartlaan</b>',\n",
       "   'maneuver': 'turn-right',\n",
       "   'polyline': {'points': 'wnyyHir_^RFTHvAb@J?^R`@R'},\n",
       "   'start_location': {'lat': 51.5813989, 'lng': 5.0821333},\n",
       "   'travel_mode': 'DRIVING'},\n",
       "  {'distance': {'text': '0.1 km', 'value': 120},\n",
       "   'duration': {'text': '1 min', 'value': 28},\n",
       "   'end_location': {'lat': 51.5807272, 'lng': 5.080026699999999},\n",
       "   'html_instructions': 'Turn <b>right</b> to stay on <b>Mozartlaan</b>',\n",
       "   'maneuver': 'turn-right',\n",
       "   'polyline': {'points': 'ghyyHko_^Iv@Iv@QlASlAG\\\\GZ'},\n",
       "   'start_location': {'lat': 51.5803646, 'lng': 5.0816563},\n",
       "   'travel_mode': 'DRIVING'},\n",
       "  {'distance': {'text': '0.3 km', 'value': 286},\n",
       "   'duration': {'text': '1 min', 'value': 56},\n",
       "   'end_location': {'lat': 51.5796329, 'lng': 5.0767693},\n",
       "   'html_instructions': 'Turn <b>left</b> onto <b>Bendastraat</b>',\n",
       "   'maneuver': 'turn-left',\n",
       "   'polyline': {'points': 'qjyyHee_^hAj@hAj@JzAJzAJbBJbBJxAJxA'},\n",
       "   'start_location': {'lat': 51.5807272, 'lng': 5.080026699999999},\n",
       "   'travel_mode': 'DRIVING'},\n",
       "  {'distance': {'text': '43 m', 'value': 43},\n",
       "   'duration': {'text': '1 min', 'value': 15},\n",
       "   'end_location': {'lat': 51.5792567, 'lng': 5.0768955},\n",
       "   'html_instructions': 'Turn <b>left</b> onto <b>Chopinstraat</b>',\n",
       "   'maneuver': 'turn-left',\n",
       "   'polyline': {'points': 'ucyyHyp~]hAY'},\n",
       "   'start_location': {'lat': 51.5796329, 'lng': 5.0767693},\n",
       "   'travel_mode': 'DRIVING'}],\n",
       " 'traffic_speed_entry': [],\n",
       " 'via_waypoint': []}"
      ]
     },
     "execution_count": 20,
     "metadata": {},
     "output_type": "execute_result"
    }
   ],
   "source": [
    "json_data['routes'][0]['legs'][0]"
   ]
  },
  {
   "cell_type": "code",
   "execution_count": 25,
   "metadata": {},
   "outputs": [
    {
     "name": "stdout",
     "output_type": "stream",
     "text": [
      "start_address: : 3512 VK Utrecht, Netherlands\n",
      "start_location: : {'lat': 52.09587200000001, 'lng': 5.119043}\n",
      "end_address: : 5011 VL Tilburg, Netherlands\n",
      "end_location: : {'lat': 51.5792567, 'lng': 5.0768955}\n",
      "distance: : {'text': '81.7 km', 'value': 81737}\n",
      "duraction: : {'text': '1 hour 0 mins', 'value': 3594}\n"
     ]
    }
   ],
   "source": [
    "print(\"start_address: :\",json_data['routes'][0]['legs'][0]['start_address'])\n",
    "print(\"start_location: :\",json_data['routes'][0]['legs'][0]['start_location'])\n",
    "print(\"end_address: :\",json_data['routes'][0]['legs'][0]['end_address'])\n",
    "print(\"end_location: :\",json_data['routes'][0]['legs'][0]['end_location'])\n",
    "print(\"distance: :\",json_data['routes'][0]['legs'][0]['distance'])\n",
    "print(\"duraction: :\",json_data['routes'][0]['legs'][0]['duration'])\n",
    "# json_data['routes'][0]['legs'][0]['travel_mode']"
   ]
  },
  {
   "cell_type": "markdown",
   "metadata": {},
   "source": [
    "#### directions with lon-lat request\n",
    "https://maps.googleapis.com/maps/api/directions/json?origin=41.43206,-81.38992&destination=origin=41.55206,-81.38992&mode=car"
   ]
  },
  {
   "cell_type": "code",
   "execution_count": 26,
   "metadata": {},
   "outputs": [
    {
     "name": "stdout",
     "output_type": "stream",
     "text": [
      "52.09587200000001\n"
     ]
    }
   ],
   "source": [
    "start_location = {'lat': 52.09587200000001, 'lng': 5.119043}\n",
    "end_location = {'lat': 51.5792567, 'lng': 5.0768955}\n",
    "print(start_location['lat'])"
   ]
  },
  {
   "cell_type": "code",
   "execution_count": 27,
   "metadata": {},
   "outputs": [
    {
     "data": {
      "text/plain": [
       "'https://maps.googleapis.com/maps/api/directions/json?origin=1051KG&destination=5011VL&mode=car'"
      ]
     },
     "execution_count": 27,
     "metadata": {},
     "output_type": "execute_result"
    }
   ],
   "source": [
    "origin = \"1051KG\"\n",
    "destination = \"5011VL\" \n",
    "main_api = 'https://maps.googleapis.com/maps/api/directions/json?'\n",
    "url = main_api + urllib.parse.urlencode({\"origin\": origin})+ \"&\" + \\\n",
    "urllib.parse.urlencode({\"destination\": destination}) + \"&mode=car\"\n",
    "url"
   ]
  },
  {
   "cell_type": "markdown",
   "metadata": {},
   "source": [
    "#### first select closest x cars"
   ]
  },
  {
   "cell_type": "code",
   "execution_count": 5,
   "metadata": {},
   "outputs": [],
   "source": [
    "cars = \\\n",
    "{'car1': {'lat': 52, 'lng': 41},\n",
    " 'car2': {'lat': 53, 'lng': 42},\n",
    " 'car3': {'lat': 54, 'lng': 43},\n",
    " 'car4': {'lat': 55, 'lng': 44},\n",
    " 'car5': {'lat': 56, 'lng': 45},\n",
    " 'car6': {'lat': 57, 'lng': 46},\n",
    " 'car7': {'lat': 58, 'lng': 47},\n",
    " 'car8': {'lat': 59, 'lng': 48},\n",
    " 'car9': {'lat': 60, 'lng': 49},\n",
    " 'car10': {'lat': 61, 'lng': 50},\n",
    " 'car11': {'lat': 62, 'lng': 51},\n",
    " 'car12': {'lat': 63, 'lng': 52},\n",
    " 'car13': {'lat': 64, 'lng': 53},\n",
    " 'car14': {'lat': 65, 'lng': 54},\n",
    " 'car15': {'lat': 66, 'lng': 55}\n",
    "}"
   ]
  },
  {
   "cell_type": "code",
   "execution_count": 6,
   "metadata": {},
   "outputs": [],
   "source": [
    "passenger = {'passenger1' : {'lat': 59, 'lng': 49} }"
   ]
  },
  {
   "cell_type": "code",
   "execution_count": 16,
   "metadata": {},
   "outputs": [
    {
     "data": {
      "text/plain": [
       "'car3'"
      ]
     },
     "execution_count": 16,
     "metadata": {},
     "output_type": "execute_result"
    }
   ],
   "source": [
    "import random\n",
    "random.choice(list(cars))"
   ]
  },
  {
   "cell_type": "code",
   "execution_count": null,
   "metadata": {},
   "outputs": [],
   "source": []
  },
  {
   "cell_type": "code",
   "execution_count": 11,
   "metadata": {},
   "outputs": [
    {
     "name": "stdout",
     "output_type": "stream",
     "text": [
      "15\n",
      "13\n",
      "11\n",
      "9\n",
      "7\n",
      "5\n",
      "3\n",
      "1\n",
      "-1\n",
      "-3\n",
      "-5\n",
      "-7\n",
      "-9\n",
      "-11\n",
      "-13\n"
     ]
    }
   ],
   "source": [
    "n_cars = 2 \n",
    "find_x_closest_cars(passenger, cars, n_cars)"
   ]
  },
  {
   "cell_type": "code",
   "execution_count": 9,
   "metadata": {},
   "outputs": [],
   "source": [
    "def find_n_closest_cars(passenger, cars, n_cars):\n",
    "    abs = 2\n",
    "    cars_close = {}\n",
    "    for car_key, car_value in cars.items():\n",
    "        if(passenger['passenger1']['lat'] - car_value['lat'] + passenger['passenger1']['lng'] - car_value['lng'])\n",
    "            cars_close = \n",
    "\n",
    "        \n"
   ]
  },
  {
   "cell_type": "code",
   "execution_count": 18,
   "metadata": {},
   "outputs": [],
   "source": [
    "def calc_closest_station2(pc_location, station_location):\n",
    "    \"\"\"\n",
    "    determines which weather station is closest based on lon,lat coordinates of each pc_location in dictionary\n",
    "    \n",
    "    input: \n",
    "        pc_location: dictionary with locations, each location has dictionary with lat,lon value\n",
    "        station_location: dictionary with weather station, each station has dictionary with lat,lon value\n",
    "        \n",
    "    output:\n",
    "        dictionary with location as key, closest weather station as value\n",
    "    \"\"\"\n",
    "    closest_station = {}\n",
    "    for pc in pc_location:\n",
    "        dist_station = {}\n",
    "        for station in station_location:\n",
    "            dist_station[station] = distance(pc_location[pc], station_location[station])\n",
    "        min_dist = min(dist_station.values())\n",
    "        for station in dist_station:\n",
    "            if dist_station[station] == min_dist:\n",
    "                closest_station[pc] = station\n",
    "    return closest_station"
   ]
  },
  {
   "cell_type": "code",
   "execution_count": 21,
   "metadata": {},
   "outputs": [
    {
     "data": {
      "text/plain": [
       "{'passenger1': 'car8'}"
      ]
     },
     "execution_count": 21,
     "metadata": {},
     "output_type": "execute_result"
    }
   ],
   "source": [
    "calc_closest_station(passenger, cars)"
   ]
  },
  {
   "cell_type": "code",
   "execution_count": 22,
   "metadata": {},
   "outputs": [],
   "source": [
    "lijst_km = [3,4,5,6,7,1,2,9]"
   ]
  },
  {
   "cell_type": "code",
   "execution_count": 24,
   "metadata": {},
   "outputs": [
    {
     "data": {
      "text/plain": [
       "[1, 2]"
      ]
     },
     "execution_count": 24,
     "metadata": {},
     "output_type": "execute_result"
    }
   ],
   "source": [
    "sorted(lijst_km,reverse=False)[:2]"
   ]
  },
  {
   "cell_type": "code",
   "execution_count": null,
   "metadata": {},
   "outputs": [],
   "source": []
  }
 ],
 "metadata": {
  "kernelspec": {
   "display_name": "Python 3",
   "language": "python",
   "name": "python3"
  },
  "language_info": {
   "codemirror_mode": {
    "name": "ipython",
    "version": 3
   },
   "file_extension": ".py",
   "mimetype": "text/x-python",
   "name": "python",
   "nbconvert_exporter": "python",
   "pygments_lexer": "ipython3",
   "version": "3.6.4"
  }
 },
 "nbformat": 4,
 "nbformat_minor": 2
}
